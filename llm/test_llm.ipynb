{
 "cells": [
  {
   "cell_type": "code",
   "execution_count": 2,
   "metadata": {},
   "outputs": [],
   "source": [
    "import json\n",
    "\n",
    "GROUNDED_SYSTEM_PROMPT = \"Your task is to answer the user's questions using only the information from the provided documents. Give two answers to each question: one with a list of relevant document identifiers and the second with the answer to the question itself, using documents with these identifiers.\"\n",
    "\n",
    "documents = [\n",
    "  {\n",
    "    \"doc_id\": 0,\n",
    "    \"title\": \"Глобальное потепление: ледники\",\n",
    "    \"content\": \"За последние 50 лет объем ледников в мире уменьшился на 30%\"\n",
    "  },\n",
    "  {\n",
    "    \"doc_id\": 1,\n",
    "    \"title\": \"Глобальное потепление: Уровень моря\",\n",
    "    \"content\": \"Уровень мирового океана повысился на 20 см с 1880 года и продолжает расти на 3,3 мм в год\"\n",
    "  }\n",
    "]\n",
    "sample_history = [\n",
    "    {'role': 'system', 'content': GROUNDED_SYSTEM_PROMPT}, \n",
    "    {'role': 'documents', 'content': json.dumps(documents, ensure_ascii=False)},\n",
    "    {'role': 'user', 'content': 'Глоабльное потепление'}\n",
    "]"
   ]
  },
  {
   "cell_type": "code",
   "execution_count": 4,
   "metadata": {},
   "outputs": [
    {
     "name": "stdout",
     "output_type": "stream",
     "text": [
      "Using documents: {\"relevant_doc_ids\": [0, 1]}\n",
      "----\n",
      "Глобальное потепление – это долгосрочное повышение средней температуры атмосферы Земли, которая в свою очередь приводит к множеству последствий, включая таяние ледников и повышение уровня мирового океана.\n",
      "\n",
      "Из доступной мне информации видно, что за последние 50 лет объем ледников в мире уменьшился на 30%. Это указывает на значительные изменения в климате, которые приводят к таянию ледников и, как следствие, к изменению экосистем, на которых они влияют.\n",
      "\n",
      "Кроме того, уровень мирового океана повысился на 20 см с 1880 года и продолжает расти. Скорость повышения уровня океана составляет 3,3 мм в год. Это повышение уровня моря может привести к затоплению прибрежных районов, эрозии берегов и изменению экосистем прибрежных зон.\n",
      "\n",
      "Глобальное потепление является одним из наиболее значительных и сложных вызовов современности, требующего международного сотрудничества и принятия мер для сокращения выбросов парниковых газов и адаптации к уже произошедшим изменениям климата.\n"
     ]
    }
   ],
   "source": [
    "from openai import OpenAI\n",
    "client = OpenAI(\n",
    "    base_url=\"http://localhost:8000/v1\",\n",
    "    api_key=\"token-abc123\",\n",
    ")\n",
    "\n",
    "completion = client.chat.completions.create(\n",
    "  model=\"Vikhrmodels/Vikhr-Llama3.1-8B-Instruct-R-21-09-24\",\n",
    "  messages=sample_history\n",
    ")\n",
    "\n",
    "relevant_indexes = completion.choices[0].message.content\n",
    "\n",
    "print('Using documents: ' + relevant_indexes + '\\n----')\n",
    "final_answer = client.chat.completions.create(\n",
    "    model=\"Vikhrmodels/Vikhr-Llama3.1-8B-Instruct-R-21-09-24\",\n",
    "    messages=sample_history + [{'role': 'assistant', 'content': relevant_indexes}],\n",
    "    temperature=0.3,\n",
    "    max_tokens=2048\n",
    ").choices[0].message.content\n",
    "\n",
    "print(final_answer)"
   ]
  }
 ],
 "metadata": {
  "kernelspec": {
   "display_name": "base",
   "language": "python",
   "name": "python3"
  },
  "language_info": {
   "codemirror_mode": {
    "name": "ipython",
    "version": 3
   },
   "file_extension": ".py",
   "mimetype": "text/x-python",
   "name": "python",
   "nbconvert_exporter": "python",
   "pygments_lexer": "ipython3",
   "version": "3.12.4"
  }
 },
 "nbformat": 4,
 "nbformat_minor": 2
}
